{
 "cells": [
  {
   "cell_type": "code",
   "execution_count": 62,
   "id": "845b16d7-d1f8-4d9c-b02a-05d7f77fdb3b",
   "metadata": {},
   "outputs": [],
   "source": [
    "## importing library \n",
    "import pandas as pd\n",
    "import seaborn as sns\n",
    "import matplotlib.pyplot as plt\n",
    "from math import sqrt\n",
    "from sklearn.preprocessing import StandardScaler\n",
    "from sklearn.model_selection import train_test_split\n",
    "from sklearn.metrics import r2_score,mean_squared_error"
   ]
  },
  {
   "cell_type": "code",
   "execution_count": 2,
   "id": "d51bed00-534e-4528-8da9-1b9fa8010f60",
   "metadata": {},
   "outputs": [
    {
     "data": {
      "text/html": [
       "<div>\n",
       "<style scoped>\n",
       "    .dataframe tbody tr th:only-of-type {\n",
       "        vertical-align: middle;\n",
       "    }\n",
       "\n",
       "    .dataframe tbody tr th {\n",
       "        vertical-align: top;\n",
       "    }\n",
       "\n",
       "    .dataframe thead th {\n",
       "        text-align: right;\n",
       "    }\n",
       "</style>\n",
       "<table border=\"1\" class=\"dataframe\">\n",
       "  <thead>\n",
       "    <tr style=\"text-align: right;\">\n",
       "      <th></th>\n",
       "      <th>Gender</th>\n",
       "      <th>Age</th>\n",
       "      <th>Salary</th>\n",
       "      <th>Purchase Iphone</th>\n",
       "    </tr>\n",
       "  </thead>\n",
       "  <tbody>\n",
       "    <tr>\n",
       "      <th>0</th>\n",
       "      <td>Male</td>\n",
       "      <td>19</td>\n",
       "      <td>19000</td>\n",
       "      <td>0</td>\n",
       "    </tr>\n",
       "    <tr>\n",
       "      <th>1</th>\n",
       "      <td>Male</td>\n",
       "      <td>35</td>\n",
       "      <td>20000</td>\n",
       "      <td>0</td>\n",
       "    </tr>\n",
       "    <tr>\n",
       "      <th>2</th>\n",
       "      <td>Female</td>\n",
       "      <td>26</td>\n",
       "      <td>43000</td>\n",
       "      <td>0</td>\n",
       "    </tr>\n",
       "    <tr>\n",
       "      <th>3</th>\n",
       "      <td>Female</td>\n",
       "      <td>27</td>\n",
       "      <td>57000</td>\n",
       "      <td>0</td>\n",
       "    </tr>\n",
       "    <tr>\n",
       "      <th>4</th>\n",
       "      <td>Male</td>\n",
       "      <td>19</td>\n",
       "      <td>76000</td>\n",
       "      <td>0</td>\n",
       "    </tr>\n",
       "  </tbody>\n",
       "</table>\n",
       "</div>"
      ],
      "text/plain": [
       "   Gender  Age  Salary  Purchase Iphone\n",
       "0    Male   19   19000                0\n",
       "1    Male   35   20000                0\n",
       "2  Female   26   43000                0\n",
       "3  Female   27   57000                0\n",
       "4    Male   19   76000                0"
      ]
     },
     "execution_count": 2,
     "metadata": {},
     "output_type": "execute_result"
    }
   ],
   "source": [
    "data = pd.read_csv(\"D:/Lecture file/25 th lecture 29 march/KNN Assignment/iphone_purchase_records.csv\")\n",
    "data.head()"
   ]
  },
  {
   "cell_type": "code",
   "execution_count": 3,
   "id": "b7ce5912-bb71-4021-8521-10a248c814d8",
   "metadata": {},
   "outputs": [
    {
     "data": {
      "text/plain": [
       "Gender             0\n",
       "Age                0\n",
       "Salary             0\n",
       "Purchase Iphone    0\n",
       "dtype: int64"
      ]
     },
     "execution_count": 3,
     "metadata": {},
     "output_type": "execute_result"
    }
   ],
   "source": [
    "## data check  for null value\n",
    "data.isnull().sum()"
   ]
  },
  {
   "cell_type": "code",
   "execution_count": 4,
   "id": "e963770c-80f1-4d81-951e-2452490457f7",
   "metadata": {},
   "outputs": [
    {
     "data": {
      "text/plain": [
       "(400, 4)"
      ]
     },
     "execution_count": 4,
     "metadata": {},
     "output_type": "execute_result"
    }
   ],
   "source": [
    "data.shape"
   ]
  },
  {
   "cell_type": "code",
   "execution_count": 5,
   "id": "d8b09569-55ff-4e79-9ebd-0e4735174656",
   "metadata": {},
   "outputs": [
    {
     "data": {
      "text/plain": [
       "array(['Male', 'Female'], dtype=object)"
      ]
     },
     "execution_count": 5,
     "metadata": {},
     "output_type": "execute_result"
    }
   ],
   "source": [
    "data['Gender'].unique()"
   ]
  },
  {
   "cell_type": "code",
   "execution_count": 6,
   "id": "bda242d4-6518-4029-ba20-f6c19270861b",
   "metadata": {},
   "outputs": [
    {
     "data": {
      "text/plain": [
       "{'Male': 0, 'Female': 1}"
      ]
     },
     "execution_count": 6,
     "metadata": {},
     "output_type": "execute_result"
    }
   ],
   "source": [
    "d = {'Male':0 ,'Female':1}\n",
    "d"
   ]
  },
  {
   "cell_type": "code",
   "execution_count": 7,
   "id": "57cfe360-a772-416e-ab79-c8d7cc028804",
   "metadata": {},
   "outputs": [],
   "source": [
    "data['Gender'] = data['Gender'].map(d)"
   ]
  },
  {
   "cell_type": "code",
   "execution_count": 8,
   "id": "4feab822-a356-423d-80c4-82129cd9bdb6",
   "metadata": {},
   "outputs": [
    {
     "data": {
      "text/html": [
       "<div>\n",
       "<style scoped>\n",
       "    .dataframe tbody tr th:only-of-type {\n",
       "        vertical-align: middle;\n",
       "    }\n",
       "\n",
       "    .dataframe tbody tr th {\n",
       "        vertical-align: top;\n",
       "    }\n",
       "\n",
       "    .dataframe thead th {\n",
       "        text-align: right;\n",
       "    }\n",
       "</style>\n",
       "<table border=\"1\" class=\"dataframe\">\n",
       "  <thead>\n",
       "    <tr style=\"text-align: right;\">\n",
       "      <th></th>\n",
       "      <th>Gender</th>\n",
       "      <th>Age</th>\n",
       "      <th>Salary</th>\n",
       "      <th>Purchase Iphone</th>\n",
       "    </tr>\n",
       "  </thead>\n",
       "  <tbody>\n",
       "    <tr>\n",
       "      <th>0</th>\n",
       "      <td>0</td>\n",
       "      <td>19</td>\n",
       "      <td>19000</td>\n",
       "      <td>0</td>\n",
       "    </tr>\n",
       "    <tr>\n",
       "      <th>1</th>\n",
       "      <td>0</td>\n",
       "      <td>35</td>\n",
       "      <td>20000</td>\n",
       "      <td>0</td>\n",
       "    </tr>\n",
       "    <tr>\n",
       "      <th>2</th>\n",
       "      <td>1</td>\n",
       "      <td>26</td>\n",
       "      <td>43000</td>\n",
       "      <td>0</td>\n",
       "    </tr>\n",
       "    <tr>\n",
       "      <th>3</th>\n",
       "      <td>1</td>\n",
       "      <td>27</td>\n",
       "      <td>57000</td>\n",
       "      <td>0</td>\n",
       "    </tr>\n",
       "    <tr>\n",
       "      <th>4</th>\n",
       "      <td>0</td>\n",
       "      <td>19</td>\n",
       "      <td>76000</td>\n",
       "      <td>0</td>\n",
       "    </tr>\n",
       "  </tbody>\n",
       "</table>\n",
       "</div>"
      ],
      "text/plain": [
       "   Gender  Age  Salary  Purchase Iphone\n",
       "0       0   19   19000                0\n",
       "1       0   35   20000                0\n",
       "2       1   26   43000                0\n",
       "3       1   27   57000                0\n",
       "4       0   19   76000                0"
      ]
     },
     "execution_count": 8,
     "metadata": {},
     "output_type": "execute_result"
    }
   ],
   "source": [
    "data.head()"
   ]
  },
  {
   "cell_type": "code",
   "execution_count": 9,
   "id": "815b4da0-fbba-4cc7-b26e-b6b8ff9b9049",
   "metadata": {},
   "outputs": [
    {
     "data": {
      "text/html": [
       "<div>\n",
       "<style scoped>\n",
       "    .dataframe tbody tr th:only-of-type {\n",
       "        vertical-align: middle;\n",
       "    }\n",
       "\n",
       "    .dataframe tbody tr th {\n",
       "        vertical-align: top;\n",
       "    }\n",
       "\n",
       "    .dataframe thead th {\n",
       "        text-align: right;\n",
       "    }\n",
       "</style>\n",
       "<table border=\"1\" class=\"dataframe\">\n",
       "  <thead>\n",
       "    <tr style=\"text-align: right;\">\n",
       "      <th></th>\n",
       "      <th>Gender</th>\n",
       "      <th>Age</th>\n",
       "      <th>Salary</th>\n",
       "    </tr>\n",
       "  </thead>\n",
       "  <tbody>\n",
       "    <tr>\n",
       "      <th>0</th>\n",
       "      <td>0</td>\n",
       "      <td>19</td>\n",
       "      <td>19000</td>\n",
       "    </tr>\n",
       "    <tr>\n",
       "      <th>1</th>\n",
       "      <td>0</td>\n",
       "      <td>35</td>\n",
       "      <td>20000</td>\n",
       "    </tr>\n",
       "    <tr>\n",
       "      <th>2</th>\n",
       "      <td>1</td>\n",
       "      <td>26</td>\n",
       "      <td>43000</td>\n",
       "    </tr>\n",
       "    <tr>\n",
       "      <th>3</th>\n",
       "      <td>1</td>\n",
       "      <td>27</td>\n",
       "      <td>57000</td>\n",
       "    </tr>\n",
       "    <tr>\n",
       "      <th>4</th>\n",
       "      <td>0</td>\n",
       "      <td>19</td>\n",
       "      <td>76000</td>\n",
       "    </tr>\n",
       "    <tr>\n",
       "      <th>...</th>\n",
       "      <td>...</td>\n",
       "      <td>...</td>\n",
       "      <td>...</td>\n",
       "    </tr>\n",
       "    <tr>\n",
       "      <th>395</th>\n",
       "      <td>1</td>\n",
       "      <td>46</td>\n",
       "      <td>41000</td>\n",
       "    </tr>\n",
       "    <tr>\n",
       "      <th>396</th>\n",
       "      <td>0</td>\n",
       "      <td>51</td>\n",
       "      <td>23000</td>\n",
       "    </tr>\n",
       "    <tr>\n",
       "      <th>397</th>\n",
       "      <td>1</td>\n",
       "      <td>50</td>\n",
       "      <td>20000</td>\n",
       "    </tr>\n",
       "    <tr>\n",
       "      <th>398</th>\n",
       "      <td>0</td>\n",
       "      <td>36</td>\n",
       "      <td>33000</td>\n",
       "    </tr>\n",
       "    <tr>\n",
       "      <th>399</th>\n",
       "      <td>1</td>\n",
       "      <td>49</td>\n",
       "      <td>36000</td>\n",
       "    </tr>\n",
       "  </tbody>\n",
       "</table>\n",
       "<p>400 rows × 3 columns</p>\n",
       "</div>"
      ],
      "text/plain": [
       "     Gender  Age  Salary\n",
       "0         0   19   19000\n",
       "1         0   35   20000\n",
       "2         1   26   43000\n",
       "3         1   27   57000\n",
       "4         0   19   76000\n",
       "..      ...  ...     ...\n",
       "395       1   46   41000\n",
       "396       0   51   23000\n",
       "397       1   50   20000\n",
       "398       0   36   33000\n",
       "399       1   49   36000\n",
       "\n",
       "[400 rows x 3 columns]"
      ]
     },
     "execution_count": 9,
     "metadata": {},
     "output_type": "execute_result"
    }
   ],
   "source": [
    "X = data.iloc[:,0:3]\n",
    "X"
   ]
  },
  {
   "cell_type": "code",
   "execution_count": 10,
   "id": "3612d013-6c06-4603-97e6-e8256a45442d",
   "metadata": {
    "scrolled": true
   },
   "outputs": [
    {
     "data": {
      "text/plain": [
       "0      0\n",
       "1      0\n",
       "2      0\n",
       "3      0\n",
       "4      0\n",
       "      ..\n",
       "395    1\n",
       "396    1\n",
       "397    1\n",
       "398    0\n",
       "399    1\n",
       "Name: Purchase Iphone, Length: 400, dtype: int64"
      ]
     },
     "execution_count": 10,
     "metadata": {},
     "output_type": "execute_result"
    }
   ],
   "source": [
    "y = data.iloc[:,-1]\n",
    "y"
   ]
  },
  {
   "cell_type": "markdown",
   "id": "80d25d26-f784-4521-8540-ad057a93b77f",
   "metadata": {},
   "source": [
    "## Training and testing of iphone purchase data "
   ]
  },
  {
   "cell_type": "code",
   "execution_count": 145,
   "id": "b3ed0a77-a406-4a34-ac9a-871a70ca1ebe",
   "metadata": {},
   "outputs": [],
   "source": [
    "scaler = StandardScaler()"
   ]
  },
  {
   "cell_type": "code",
   "execution_count": 147,
   "id": "50531aaf-af97-4dfc-a699-873f3311f35d",
   "metadata": {},
   "outputs": [],
   "source": [
    "X_scaled= scaler.fit_transform(X)"
   ]
  },
  {
   "cell_type": "code",
   "execution_count": 149,
   "id": "d9dd3633-e060-48d4-b6ed-a7c15b6ef87d",
   "metadata": {},
   "outputs": [
    {
     "data": {
      "text/plain": [
       "((320, 3), (320,))"
      ]
     },
     "execution_count": 149,
     "metadata": {},
     "output_type": "execute_result"
    }
   ],
   "source": [
    "X_train,X_test,y_train,y_test = train_test_split(X_scaled,y,test_size=0.2)\n",
    "X_train.shape,y_train.shape"
   ]
  },
  {
   "cell_type": "code",
   "execution_count": 151,
   "id": "8836df37-bf51-4688-8ab0-e19bd12298be",
   "metadata": {},
   "outputs": [
    {
     "data": {
      "text/plain": [
       "((80, 3), (80,))"
      ]
     },
     "execution_count": 151,
     "metadata": {},
     "output_type": "execute_result"
    }
   ],
   "source": [
    "X_test.shape,y_test.shape"
   ]
  },
  {
   "cell_type": "markdown",
   "id": "bc7832b4-ee37-4c06-b8a5-59e7e570ac09",
   "metadata": {},
   "source": [
    "## Importing knn library "
   ]
  },
  {
   "cell_type": "code",
   "execution_count": 154,
   "id": "c2ff960c-ba02-48fd-8e4a-b1e148d7055c",
   "metadata": {},
   "outputs": [],
   "source": [
    "from sklearn.neighbors import KNeighborsRegressor\n",
    "from sklearn.metrics import accuracy_score\n",
    "import joblib"
   ]
  },
  {
   "cell_type": "code",
   "execution_count": 156,
   "id": "48df962c-70b0-425f-8721-2ba84a859f27",
   "metadata": {},
   "outputs": [
    {
     "name": "stdout",
     "output_type": "stream",
     "text": [
      "Training of iphone purchase data for knn model is completed \n"
     ]
    }
   ],
   "source": [
    "Knn_iphone_model = KNeighborsRegressor(n_neighbors =3)\n",
    "Knn_iphone_model_train = Knn_iphone_model.fit(X_train,y_train)\n",
    "print(\"Training of iphone purchase data for knn model is completed \")"
   ]
  },
  {
   "cell_type": "code",
   "execution_count": 158,
   "id": "0a2dccb6-5448-4848-a958-a1286d6a11d1",
   "metadata": {},
   "outputs": [],
   "source": [
    "y_pred =Knn_iphone_model_train.predict(X_test)"
   ]
  },
  {
   "cell_type": "code",
   "execution_count": 160,
   "id": "caee1394-3de7-4551-a5f2-9bcbf30ca8ae",
   "metadata": {
    "scrolled": true
   },
   "outputs": [
    {
     "name": "stdout",
     "output_type": "stream",
     "text": [
      "score of the  knn model is : 78.06 \n"
     ]
    }
   ],
   "source": [
    "score =Knn_iphone_model_train.score(X_train,y_train)*100\n",
    "print (f'score of the  knn model is : {round(score,2)} ')"
   ]
  },
  {
   "cell_type": "code",
   "execution_count": 162,
   "id": "dcd7c5c0-8326-4573-ac21-413bc9b468e4",
   "metadata": {},
   "outputs": [
    {
     "name": "stdout",
     "output_type": "stream",
     "text": [
      " mse of the model : 0.08611111111111111\n"
     ]
    }
   ],
   "source": [
    "mse =mean_squared_error(y_test,y_pred)\n",
    "print(f' mse of the model : {mse}')"
   ]
  },
  {
   "cell_type": "code",
   "execution_count": 164,
   "id": "1cf69005-49c3-4f76-8cb5-54095c299e14",
   "metadata": {},
   "outputs": [
    {
     "name": "stdout",
     "output_type": "stream",
     "text": [
      "Length of the iphone purchase data is :20.0\n"
     ]
    }
   ],
   "source": [
    "length=sqrt(len(data))\n",
    "print(f'Length of the iphone purchase data is :{length}')"
   ]
  },
  {
   "cell_type": "code",
   "execution_count": 166,
   "id": "decb1c53-06f0-4a44-8b70-a71f93090b24",
   "metadata": {},
   "outputs": [
    {
     "data": {
      "text/html": [
       "<div>\n",
       "<style scoped>\n",
       "    .dataframe tbody tr th:only-of-type {\n",
       "        vertical-align: middle;\n",
       "    }\n",
       "\n",
       "    .dataframe tbody tr th {\n",
       "        vertical-align: top;\n",
       "    }\n",
       "\n",
       "    .dataframe thead th {\n",
       "        text-align: right;\n",
       "    }\n",
       "</style>\n",
       "<table border=\"1\" class=\"dataframe\">\n",
       "  <thead>\n",
       "    <tr style=\"text-align: right;\">\n",
       "      <th></th>\n",
       "      <th>Actual</th>\n",
       "      <th>prediction</th>\n",
       "    </tr>\n",
       "  </thead>\n",
       "  <tbody>\n",
       "    <tr>\n",
       "      <th>242</th>\n",
       "      <td>1</td>\n",
       "      <td>1.000000</td>\n",
       "    </tr>\n",
       "    <tr>\n",
       "      <th>168</th>\n",
       "      <td>1</td>\n",
       "      <td>1.000000</td>\n",
       "    </tr>\n",
       "    <tr>\n",
       "      <th>316</th>\n",
       "      <td>1</td>\n",
       "      <td>1.000000</td>\n",
       "    </tr>\n",
       "    <tr>\n",
       "      <th>383</th>\n",
       "      <td>1</td>\n",
       "      <td>1.000000</td>\n",
       "    </tr>\n",
       "    <tr>\n",
       "      <th>285</th>\n",
       "      <td>1</td>\n",
       "      <td>0.333333</td>\n",
       "    </tr>\n",
       "    <tr>\n",
       "      <th>...</th>\n",
       "      <td>...</td>\n",
       "      <td>...</td>\n",
       "    </tr>\n",
       "    <tr>\n",
       "      <th>220</th>\n",
       "      <td>0</td>\n",
       "      <td>0.333333</td>\n",
       "    </tr>\n",
       "    <tr>\n",
       "      <th>185</th>\n",
       "      <td>0</td>\n",
       "      <td>0.000000</td>\n",
       "    </tr>\n",
       "    <tr>\n",
       "      <th>98</th>\n",
       "      <td>0</td>\n",
       "      <td>0.000000</td>\n",
       "    </tr>\n",
       "    <tr>\n",
       "      <th>21</th>\n",
       "      <td>1</td>\n",
       "      <td>0.666667</td>\n",
       "    </tr>\n",
       "    <tr>\n",
       "      <th>325</th>\n",
       "      <td>0</td>\n",
       "      <td>0.000000</td>\n",
       "    </tr>\n",
       "  </tbody>\n",
       "</table>\n",
       "<p>80 rows × 2 columns</p>\n",
       "</div>"
      ],
      "text/plain": [
       "     Actual  prediction\n",
       "242       1    1.000000\n",
       "168       1    1.000000\n",
       "316       1    1.000000\n",
       "383       1    1.000000\n",
       "285       1    0.333333\n",
       "..      ...         ...\n",
       "220       0    0.333333\n",
       "185       0    0.000000\n",
       "98        0    0.000000\n",
       "21        1    0.666667\n",
       "325       0    0.000000\n",
       "\n",
       "[80 rows x 2 columns]"
      ]
     },
     "execution_count": 166,
     "metadata": {},
     "output_type": "execute_result"
    }
   ],
   "source": [
    "pd.DataFrame({'Actual':y_test ,'prediction':y_pred})"
   ]
  },
  {
   "cell_type": "code",
   "execution_count": null,
   "id": "b4f75e8d-d36e-47ee-a7ee-90089ff5ba7a",
   "metadata": {},
   "outputs": [],
   "source": []
  },
  {
   "cell_type": "markdown",
   "id": "923f166d-f984-425f-aeff-eecff216ba9b",
   "metadata": {},
   "source": [
    "### Trainig the error for  to select k"
   ]
  },
  {
   "cell_type": "code",
   "execution_count": 170,
   "id": "42fbd866-0b65-41bf-8b84-230f933d3916",
   "metadata": {},
   "outputs": [],
   "source": [
    "\n",
    "error = []\n",
    "for i in range(1,20):\n",
    "    Knn_iphone_model = KNeighborsRegressor(n_neighbors =i)\n",
    "    Knn_iphone_model_train = Knn_iphone_model.fit(X_train,y_train)\n",
    "    err =1-Knn_iphone_model_train.score(X_train,y_train)\n",
    "    error.append(err)   "
   ]
  },
  {
   "cell_type": "code",
   "execution_count": 172,
   "id": "c8b204db-8431-4f6d-ac48-a644890bebba",
   "metadata": {
    "scrolled": true
   },
   "outputs": [
    {
     "name": "stdout",
     "output_type": "stream",
     "text": [
      " Value error of data by knn model : \n",
      "     Neighbours     error\n",
      "0            1  0.000000\n",
      "1            2  0.155175\n",
      "2            3  0.219440\n",
      "3            4  0.242462\n",
      "4            5  0.281009\n",
      "5            6  0.285272\n",
      "6            7  0.300562\n",
      "7            8  0.308808\n",
      "8            9  0.309480\n",
      "11          12  0.317012\n",
      "12          13  0.319783\n",
      "10          11  0.319911\n",
      "13          14  0.321579\n",
      "9           10  0.321919\n",
      "14          15  0.324144\n",
      "15          16  0.327158\n",
      "16          17  0.329583\n",
      "17          18  0.333514\n",
      "18          19  0.334970\n"
     ]
    }
   ],
   "source": [
    "Training_iphone_k  =pd.DataFrame({'Neighbours':range(1,20),'error':error})\n",
    "print(f\" Value error of data by knn model : \\n {Training_iphone_k.sort_values('error')}\")"
   ]
  },
  {
   "cell_type": "code",
   "execution_count": 174,
   "id": "233d7674-6527-446f-a9be-ff700e496f82",
   "metadata": {},
   "outputs": [
    {
     "data": {
      "image/png": "[encoded data removed]",
      "text/plain": [
       "<Figure size 640x480 with 1 Axes>"
      ]
     },
     "metadata": {},
     "output_type": "display_data"
    }
   ],
   "source": [
    "sns.lineplot(data =Training_iphone_k , x ='Neighbours' ,y = 'error')\n",
    "plt.savefig('D:/Error_lineplots.png')"
   ]
  },
  {
   "cell_type": "code",
   "execution_count": 176,
   "id": "8e74392d-6ec8-4c1b-941b-b23abf3dd3c6",
   "metadata": {},
   "outputs": [
    {
     "name": "stdout",
     "output_type": "stream",
     "text": [
      "minimum error : 0.0\n"
     ]
    }
   ],
   "source": [
    "min_error = Training_iphone_k['error'].min()\n",
    "print(f'minimum error : {min_error}')"
   ]
  },
  {
   "cell_type": "code",
   "execution_count": 178,
   "id": "0f18d894-ebb1-485f-ac37-69f6d5fd0d3f",
   "metadata": {},
   "outputs": [
    {
     "data": {
      "text/plain": [
       "array([0.63157895, 0.63157895, 0.84210526, 0.63157895, 0.26315789,\n",
       "       0.78947368, 0.78947368, 0.57894737, 0.        , 0.68421053,\n",
       "       0.63157895, 0.89473684, 0.        , 0.        , 0.05263158,\n",
       "       0.78947368, 0.52631579, 0.42105263, 0.57894737, 0.05263158,\n",
       "       0.        , 0.        , 0.21052632, 0.        , 0.63157895,\n",
       "       0.        , 0.        , 0.        , 0.84210526, 0.        ,\n",
       "       0.78947368, 0.52631579, 0.63157895, 0.        , 0.10526316,\n",
       "       0.84210526, 0.15789474, 0.84210526, 0.        , 0.57894737,\n",
       "       0.78947368, 0.26315789, 0.57894737, 0.78947368, 0.42105263,\n",
       "       0.15789474, 0.        , 0.47368421, 0.        , 0.63157895,\n",
       "       0.05263158, 0.        , 0.10526316, 0.10526316, 0.89473684,\n",
       "       0.        , 0.10526316, 0.21052632, 0.47368421, 0.84210526,\n",
       "       0.05263158, 0.        , 0.        , 0.63157895, 0.        ,\n",
       "       0.        , 0.05263158, 0.        , 0.        , 0.05263158,\n",
       "       0.        , 0.73684211, 0.84210526, 0.05263158, 0.        ,\n",
       "       0.10526316, 0.05263158, 0.10526316, 0.57894737, 0.        ])"
      ]
     },
     "execution_count": 178,
     "metadata": {},
     "output_type": "execute_result"
    }
   ],
   "source": [
    "y_pred = Knn_iphone_model_train.predict(X_test)\n",
    "y_pred"
   ]
  },
  {
   "cell_type": "code",
   "execution_count": 180,
   "id": "8830ad58-b5c5-4aad-bdff-b3ab79adc000",
   "metadata": {},
   "outputs": [],
   "source": [
    "error_val =[]\n",
    "for i in range(1,20):\n",
    "    Knn_iphone_model = KNeighborsRegressor(n_neighbors =i)\n",
    "    Knn_iphone_model_train = Knn_iphone_model.fit(X_train,y_train)\n",
    "    y_pred = Knn_iphone_model_train.predict(X_test)\n",
    "    err =1-r2_score(y_test,y_pred)\n",
    "    error_val.append(err) \n"
   ]
  },
  {
   "cell_type": "code",
   "execution_count": 182,
   "id": "1dff911d-6c2c-4d61-9bb8-12d1424a2b4f",
   "metadata": {
    "scrolled": true
   },
   "outputs": [
    {
     "data": {
      "text/html": [
       "<div>\n",
       "<style scoped>\n",
       "    .dataframe tbody tr th:only-of-type {\n",
       "        vertical-align: middle;\n",
       "    }\n",
       "\n",
       "    .dataframe tbody tr th {\n",
       "        vertical-align: top;\n",
       "    }\n",
       "\n",
       "    .dataframe thead th {\n",
       "        text-align: right;\n",
       "    }\n",
       "</style>\n",
       "<table border=\"1\" class=\"dataframe\">\n",
       "  <thead>\n",
       "    <tr style=\"text-align: right;\">\n",
       "      <th></th>\n",
       "      <th>Neighbour</th>\n",
       "      <th>error</th>\n",
       "    </tr>\n",
       "  </thead>\n",
       "  <tbody>\n",
       "    <tr>\n",
       "      <th>8</th>\n",
       "      <td>9</td>\n",
       "      <td>0.278108</td>\n",
       "    </tr>\n",
       "    <tr>\n",
       "      <th>9</th>\n",
       "      <td>10</td>\n",
       "      <td>0.287115</td>\n",
       "    </tr>\n",
       "    <tr>\n",
       "      <th>7</th>\n",
       "      <td>8</td>\n",
       "      <td>0.291483</td>\n",
       "    </tr>\n",
       "    <tr>\n",
       "      <th>10</th>\n",
       "      <td>11</td>\n",
       "      <td>0.293386</td>\n",
       "    </tr>\n",
       "    <tr>\n",
       "      <th>11</th>\n",
       "      <td>12</td>\n",
       "      <td>0.294713</td>\n",
       "    </tr>\n",
       "    <tr>\n",
       "      <th>6</th>\n",
       "      <td>7</td>\n",
       "      <td>0.295540</td>\n",
       "    </tr>\n",
       "    <tr>\n",
       "      <th>12</th>\n",
       "      <td>13</td>\n",
       "      <td>0.302590</td>\n",
       "    </tr>\n",
       "    <tr>\n",
       "      <th>4</th>\n",
       "      <td>5</td>\n",
       "      <td>0.307731</td>\n",
       "    </tr>\n",
       "    <tr>\n",
       "      <th>5</th>\n",
       "      <td>6</td>\n",
       "      <td>0.308681</td>\n",
       "    </tr>\n",
       "    <tr>\n",
       "      <th>13</th>\n",
       "      <td>14</td>\n",
       "      <td>0.313498</td>\n",
       "    </tr>\n",
       "    <tr>\n",
       "      <th>3</th>\n",
       "      <td>4</td>\n",
       "      <td>0.329981</td>\n",
       "    </tr>\n",
       "    <tr>\n",
       "      <th>14</th>\n",
       "      <td>15</td>\n",
       "      <td>0.338571</td>\n",
       "    </tr>\n",
       "    <tr>\n",
       "      <th>15</th>\n",
       "      <td>16</td>\n",
       "      <td>0.344320</td>\n",
       "    </tr>\n",
       "    <tr>\n",
       "      <th>2</th>\n",
       "      <td>3</td>\n",
       "      <td>0.346393</td>\n",
       "    </tr>\n",
       "    <tr>\n",
       "      <th>16</th>\n",
       "      <td>17</td>\n",
       "      <td>0.358417</td>\n",
       "    </tr>\n",
       "    <tr>\n",
       "      <th>17</th>\n",
       "      <td>18</td>\n",
       "      <td>0.359429</td>\n",
       "    </tr>\n",
       "    <tr>\n",
       "      <th>18</th>\n",
       "      <td>19</td>\n",
       "      <td>0.369809</td>\n",
       "    </tr>\n",
       "    <tr>\n",
       "      <th>1</th>\n",
       "      <td>2</td>\n",
       "      <td>0.414833</td>\n",
       "    </tr>\n",
       "    <tr>\n",
       "      <th>0</th>\n",
       "      <td>1</td>\n",
       "      <td>0.603394</td>\n",
       "    </tr>\n",
       "  </tbody>\n",
       "</table>\n",
       "</div>"
      ],
      "text/plain": [
       "    Neighbour     error\n",
       "8           9  0.278108\n",
       "9          10  0.287115\n",
       "7           8  0.291483\n",
       "10         11  0.293386\n",
       "11         12  0.294713\n",
       "6           7  0.295540\n",
       "12         13  0.302590\n",
       "4           5  0.307731\n",
       "5           6  0.308681\n",
       "13         14  0.313498\n",
       "3           4  0.329981\n",
       "14         15  0.338571\n",
       "15         16  0.344320\n",
       "2           3  0.346393\n",
       "16         17  0.358417\n",
       "17         18  0.359429\n",
       "18         19  0.369809\n",
       "1           2  0.414833\n",
       "0           1  0.603394"
      ]
     },
     "execution_count": 182,
     "metadata": {},
     "output_type": "execute_result"
    }
   ],
   "source": [
    "Validation_iphone_k =pd.DataFrame({'Neighbour':range(1,20), 'error': error_val})\n",
    "Validation_iphone_k.sort_values('error')"
   ]
  },
  {
   "cell_type": "code",
   "execution_count": 184,
   "id": "50ed9734-dc6c-4d7e-8050-d54e856e380b",
   "metadata": {
    "scrolled": true
   },
   "outputs": [
    {
     "data": {
      "image/png": "[encoded data removed]",
      "text/plain": [
       "<Figure size 640x480 with 1 Axes>"
      ]
     },
     "metadata": {},
     "output_type": "display_data"
    }
   ],
   "source": [
    "sns.lineplot(data =Validation_iphone_k , x ='Neighbour',y ='error')\n",
    "plt.savefig('D:/error_lineplot_downward.png')"
   ]
  },
  {
   "cell_type": "markdown",
   "id": "8cb16973-c0f7-4f0d-862f-8b41a77b1d19",
   "metadata": {},
   "source": [
    "### saving the model"
   ]
  },
  {
   "cell_type": "code",
   "execution_count": 60,
   "id": "844832a0-2404-4fc7-af33-09a9cad97584",
   "metadata": {},
   "outputs": [
    {
     "data": {
      "text/plain": [
       "['iphone_purchase_pred_v1.joblib']"
      ]
     },
     "execution_count": 60,
     "metadata": {},
     "output_type": "execute_result"
    }
   ],
   "source": [
    "joblib.dump(Knn_iphone_model ,'iphone_purchase_pred_v1.joblib')"
   ]
  },
  {
   "cell_type": "code",
   "execution_count": null,
   "id": "29934a15-fc5e-4131-a6ee-193b06b9f51f",
   "metadata": {},
   "outputs": [],
   "source": []
  }
 ],
 "metadata": {
  "kernelspec": {
   "display_name": "Python [conda env:base] *",
   "language": "python",
   "name": "conda-base-py"
  },
  "language_info": {
   "codemirror_mode": {
    "name": "ipython",
    "version": 3
   },
   "file_extension": ".py",
   "mimetype": "text/x-python",
   "name": "python",
   "nbconvert_exporter": "python",
   "pygments_lexer": "ipython3",
   "version": "3.12.7"
  }
 },
 "nbformat": 4,
 "nbformat_minor": 5
}
